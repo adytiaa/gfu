{
 "cells": [
  {
   "cell_type": "markdown",
   "metadata": {},
   "source": [
    "# Intro to Machine Learning with scikit-learn"
   ]
  },
  {
   "cell_type": "code",
   "execution_count": 4,
   "metadata": {},
   "outputs": [
    {
     "name": "stdout",
     "output_type": "stream",
     "text": [
      "Populating the interactive namespace from numpy and matplotlib\n"
     ]
    }
   ],
   "source": [
    "%pylab inline"
   ]
  },
  {
   "cell_type": "code",
   "execution_count": 5,
   "metadata": {},
   "outputs": [],
   "source": [
    "from matplotlib import pyplot as plt"
   ]
  },
  {
   "cell_type": "markdown",
   "metadata": {},
   "source": [
    "# Data"
   ]
  },
  {
   "cell_type": "code",
   "execution_count": 6,
   "metadata": {},
   "outputs": [],
   "source": [
    "from sklearn import datasets\n",
    "digits = datasets.load_digits()"
   ]
  },
  {
   "cell_type": "code",
   "execution_count": 7,
   "metadata": {},
   "outputs": [
    {
     "name": "stdout",
     "output_type": "stream",
     "text": [
      " Optical Recognition of Handwritten Digits Data Set\n",
      "\n",
      "Notes\n",
      "-----\n",
      "Data Set Characteristics:\n",
      "    :Number of Instances: 5620\n",
      "    :Number of Attributes: 64\n",
      "    :Attribute Information: 8x8 image of integer pixels in the range 0..16.\n",
      "    :Missing Attribute Values: None\n",
      "    :Creator: E. Alpaydin (alpaydin '@' boun.edu.tr)\n",
      "    :Date: July; 1998\n",
      "\n",
      "This is a copy of the test set of the UCI ML hand-written digits datasets\n",
      "http://archive.ics.uci.edu/ml/datasets/Optical+Recognition+of+Handwritten+Digits\n",
      "\n",
      "The data set contains images of hand-written digits: 10 classes where\n",
      "each class refers to a digit.\n",
      "\n",
      "Preprocessing programs made available by NIST were used to extract\n",
      "normalized bitmaps of handwritten digits from a preprinted form. From a\n",
      "total of 43 people, 30 contributed to the training set and different 13\n",
      "to the test set. 32x32 bitmaps are divided into nonoverlapping blocks of\n",
      "4x4 and the number of on pixels are counted in each block. This generates\n",
      "an input matrix of 8x8 where each element is an integer in the range\n",
      "0..16. This reduces dimensionality and gives invariance to small\n",
      "distortions.\n",
      "\n",
      "For info on NIST preprocessing routines, see M. D. Garris, J. L. Blue, G.\n",
      "T. Candela, D. L. Dimmick, J. Geist, P. J. Grother, S. A. Janet, and C.\n",
      "L. Wilson, NIST Form-Based Handprint Recognition System, NISTIR 5469,\n",
      "1994.\n",
      "\n",
      "References\n",
      "----------\n",
      "  - C. Kaynak (1995) Methods of Combining Multiple Classifiers and Their\n",
      "    Applications to Handwritten Digit Recognition, MSc Thesis, Institute of\n",
      "    Graduate Studies in Science and Engineering, Bogazici University.\n",
      "  - E. Alpaydin, C. Kaynak (1998) Cascading Classifiers, Kybernetika.\n",
      "  - Ken Tang and Ponnuthurai N. Suganthan and Xi Yao and A. Kai Qin.\n",
      "    Linear dimensionalityreduction using relevance weighted LDA. School of\n",
      "    Electrical and Electronic Engineering Nanyang Technological University.\n",
      "    2005.\n",
      "  - Claudio Gentile. A New Approximate Maximal Margin Classification\n",
      "    Algorithm. NIPS. 2000.\n",
      "\n"
     ]
    }
   ],
   "source": [
    "print(digits.DESCR)"
   ]
  },
  {
   "cell_type": "code",
   "execution_count": 8,
   "metadata": {},
   "outputs": [
    {
     "data": {
      "image/png": "[encoded data removed]",
      "text/plain": [
       "<matplotlib.figure.Figure at 0x108bdabe0>"
      ]
     },
     "metadata": {},
     "output_type": "display_data"
    }
   ],
   "source": [
    "from skimage import io\n",
    "io.imshow(digits.images[211])"
   ]
  },
  {
   "cell_type": "code",
   "execution_count": 9,
   "metadata": {},
   "outputs": [],
   "source": [
    "train_X, test_X = digits.data[:1400, :], digits.data[1400:, :]\n",
    "train_Y, test_Y = digits.target[:1400], digits.target[1400:]"
   ]
  },
  {
   "cell_type": "markdown",
   "metadata": {},
   "source": [
    "# Using `scikit-learn`"
   ]
  },
  {
   "cell_type": "markdown",
   "metadata": {},
   "source": [
    "All models have the same interface, implementing functions that trains and evaluate models.\n",
    "\n",
    "Check the parameters the model takes: they control important parameters of the algorithm."
   ]
  },
  {
   "cell_type": "markdown",
   "metadata": {},
   "source": [
    "## Logistic regression"
   ]
  },
  {
   "cell_type": "code",
   "execution_count": 10,
   "metadata": {},
   "outputs": [],
   "source": [
    "from sklearn.linear_model import LogisticRegression"
   ]
  },
  {
   "cell_type": "code",
   "execution_count": 27,
   "metadata": {},
   "outputs": [
    {
     "data": {
      "text/plain": [
       "0.89672544080604533"
      ]
     },
     "execution_count": 27,
     "metadata": {},
     "output_type": "execute_result"
    }
   ],
   "source": [
    "model = LogisticRegression(C=1)\n",
    "model.fit(train_X, train_Y)\n",
    "model.score(test_X, test_Y)"
   ]
  },
  {
   "cell_type": "markdown",
   "metadata": {},
   "source": [
    "## SVM"
   ]
  },
  {
   "cell_type": "code",
   "execution_count": 19,
   "metadata": {},
   "outputs": [],
   "source": [
    "from sklearn.svm import LinearSVC"
   ]
  },
  {
   "cell_type": "code",
   "execution_count": 16,
   "metadata": {},
   "outputs": [
    {
     "data": {
      "text/plain": [
       "0.87909319899244331"
      ]
     },
     "execution_count": 16,
     "metadata": {},
     "output_type": "execute_result"
    }
   ],
   "source": [
    "svc = LinearSVC()\n",
    "svc.fit(train_X, train_Y)\n",
    "svc.score(test_X, test_Y)"
   ]
  },
  {
   "cell_type": "markdown",
   "metadata": {},
   "source": [
    "## Cross-validation"
   ]
  },
  {
   "cell_type": "markdown",
   "metadata": {},
   "source": [
    "We use validation set to predict how well the model generalizes to unseen data before testing it on the test set directly. Using cross-validation can help better estimate performance by averaging it over multiple reruns of the training over different training sets. With k-fold cross validation, we partition the data randomly into k sets, and rerun the training k times, each time using one set for validation and the other k-1 sets for training."
   ]
  },
  {
   "cell_type": "markdown",
   "metadata": {},
   "source": [
    "##Optimization: Grid Search"
   ]
  },
  {
   "cell_type": "markdown",
   "metadata": {},
   "source": [
    "Optimizing parameters is a tedious task to perform by hand. Here's a few ways to automate it."
   ]
  },
  {
   "cell_type": "markdown",
   "metadata": {},
   "source": [
    "Grid search allow us to enter all the parameters we want to try. For every combination of parameters, it will train a new model, and store the performance on the validation set (averaged across the number of reruns (see the `cv` param))"
   ]
  },
  {
   "cell_type": "code",
   "execution_count": 30,
   "metadata": {},
   "outputs": [],
   "source": [
    "from sklearn.grid_search import GridSearchCV"
   ]
  },
  {
   "cell_type": "code",
   "execution_count": 28,
   "metadata": {},
   "outputs": [],
   "source": [
    "parameters = {\n",
    "    'kernel': ['linear'], 'C':[0.1, 1, 5], 'tol': [0.000001, 0.01, 0.1] \n",
    "}"
   ]
  },
  {
   "cell_type": "code",
   "execution_count": 32,
   "metadata": {},
   "outputs": [
    {
     "name": "stdout",
     "output_type": "stream",
     "text": [
      "Fitting 5 folds for each of 9 candidates, totalling 45 fits\n",
      "[CV] C=0.1, kernel=linear, tol=1e-06 .................................\n",
      "[CV] ........ C=0.1, kernel=linear, tol=1e-06, score=0.939929 -   0.1s\n",
      "[CV] C=0.1, kernel=linear, tol=1e-06 .................................\n",
      "[CV] ........ C=0.1, kernel=linear, tol=1e-06, score=0.943262 -   0.1s\n",
      "[CV] C=0.1, kernel=linear, tol=1e-06 .................................\n",
      "[CV] ........ C=0.1, kernel=linear, tol=1e-06, score=0.939286 -   0.1s\n",
      "[CV] C=0.1, kernel=linear, tol=1e-06 .................................\n",
      "[CV] ........ C=0.1, kernel=linear, tol=1e-06, score=0.974910 -   0.1s\n",
      "[CV] C=0.1, kernel=linear, tol=1e-06 .................................\n",
      "[CV] ........ C=0.1, kernel=linear, tol=1e-06, score=0.971014 -   0.1s\n",
      "[CV] C=0.1, kernel=linear, tol=0.01 ..................................\n",
      "[CV] ......... C=0.1, kernel=linear, tol=0.01, score=0.943463 -   0.0s\n",
      "[CV] C=0.1, kernel=linear, tol=0.01 ..................................\n",
      "[CV] ......... C=0.1, kernel=linear, tol=0.01, score=0.943262 -   0.0s\n",
      "[CV] C=0.1, kernel=linear, tol=0.01 ..................................\n",
      "[CV] ......... C=0.1, kernel=linear, tol=0.01, score=0.939286 -   0.0s\n",
      "[CV] C=0.1, kernel=linear, tol=0.01 ..................................\n",
      "[CV] ......... C=0.1, kernel=linear, tol=0.01, score=0.974910 -   0.0s\n",
      "[CV] C=0.1, kernel=linear, tol=0.01 ..................................\n",
      "[CV] ......... C=0.1, kernel=linear, tol=0.01, score=0.971014 -   0.0s\n",
      "[CV] C=0.1, kernel=linear, tol=0.1 ...................................\n",
      "[CV] .......... C=0.1, kernel=linear, tol=0.1, score=0.946996 -   0.0s\n",
      "[CV] C=0.1, kernel=linear, tol=0.1 ...................................\n",
      "[CV] .......... C=0.1, kernel=linear, tol=0.1, score=0.943262 -   0.0s\n",
      "[CV] C=0.1, kernel=linear, tol=0.1 ...................................\n",
      "[CV] .......... C=0.1, kernel=linear, tol=0.1, score=0.942857 -   0.0s\n",
      "[CV] C=0.1, kernel=linear, tol=0.1 ...................................\n",
      "[CV] .......... C=0.1, kernel=linear, tol=0.1, score=0.967742 -   0.0s\n",
      "[CV] C=0.1, kernel=linear, tol=0.1 ...................................\n",
      "[CV] .......... C=0.1, kernel=linear, tol=0.1, score=0.967391 -   0.0s\n",
      "[CV] C=1, kernel=linear, tol=1e-06 ...................................\n",
      "[CV] .......... C=1, kernel=linear, tol=1e-06, score=0.939929 -   0.1s\n",
      "[CV] C=1, kernel=linear, tol=1e-06 ...................................\n",
      "[CV] .......... C=1, kernel=linear, tol=1e-06, score=0.943262 -   0.1s\n",
      "[CV] C=1, kernel=linear, tol=1e-06 ...................................\n",
      "[CV] .......... C=1, kernel=linear, tol=1e-06, score=0.939286 -   0.1s"
     ]
    },
    {
     "name": "stderr",
     "output_type": "stream",
     "text": [
      "[Parallel(n_jobs=1)]: Done   1 jobs       | elapsed:    0.1s\n",
      "[Parallel(n_jobs=1)]: Done  18 jobs       | elapsed:    0.8s\n"
     ]
    },
    {
     "name": "stdout",
     "output_type": "stream",
     "text": [
      "\n",
      "[CV] C=1, kernel=linear, tol=1e-06 ...................................\n",
      "[CV] .......... C=1, kernel=linear, tol=1e-06, score=0.974910 -   0.1s\n",
      "[CV] C=1, kernel=linear, tol=1e-06 ...................................\n",
      "[CV] .......... C=1, kernel=linear, tol=1e-06, score=0.971014 -   0.1s\n",
      "[CV] C=1, kernel=linear, tol=0.01 ....................................\n",
      "[CV] ........... C=1, kernel=linear, tol=0.01, score=0.943463 -   0.0s\n",
      "[CV] C=1, kernel=linear, tol=0.01 ....................................\n",
      "[CV] ........... C=1, kernel=linear, tol=0.01, score=0.943262 -   0.0s\n",
      "[CV] C=1, kernel=linear, tol=0.01 ....................................\n",
      "[CV] ........... C=1, kernel=linear, tol=0.01, score=0.939286 -   0.0s\n",
      "[CV] C=1, kernel=linear, tol=0.01 ....................................\n",
      "[CV] ........... C=1, kernel=linear, tol=0.01, score=0.974910 -   0.0s\n",
      "[CV] C=1, kernel=linear, tol=0.01 ....................................\n",
      "[CV] ........... C=1, kernel=linear, tol=0.01, score=0.971014 -   0.0s\n",
      "[CV] C=1, kernel=linear, tol=0.1 .....................................\n",
      "[CV] ............ C=1, kernel=linear, tol=0.1, score=0.946996 -   0.0s\n",
      "[CV] C=1, kernel=linear, tol=0.1 .....................................\n",
      "[CV] ............ C=1, kernel=linear, tol=0.1, score=0.943262 -   0.0s\n",
      "[CV] C=1, kernel=linear, tol=0.1 .....................................\n",
      "[CV] ............ C=1, kernel=linear, tol=0.1, score=0.942857 -   0.0s\n",
      "[CV] C=1, kernel=linear, tol=0.1 .....................................\n",
      "[CV] ............ C=1, kernel=linear, tol=0.1, score=0.967742 -   0.0s\n",
      "[CV] C=1, kernel=linear, tol=0.1 .....................................\n",
      "[CV] ............ C=1, kernel=linear, tol=0.1, score=0.967391 -   0.0s\n",
      "[CV] C=5, kernel=linear, tol=1e-06 ...................................\n",
      "[CV] .......... C=5, kernel=linear, tol=1e-06, score=0.939929 -   0.1s\n",
      "[CV] C=5, kernel=linear, tol=1e-06 ...................................\n",
      "[CV] .......... C=5, kernel=linear, tol=1e-06, score=0.943262 -   0.1s\n",
      "[CV] C=5, kernel=linear, tol=1e-06 ...................................\n",
      "[CV] .......... C=5, kernel=linear, tol=1e-06, score=0.939286 -   0.0s\n",
      "[CV] C=5, kernel=linear, tol=1e-06 ...................................\n",
      "[CV] .......... C=5, kernel=linear, tol=1e-06, score=0.974910 -   0.1s\n",
      "[CV] C=5, kernel=linear, tol=1e-06 ...................................\n",
      "[CV] .......... C=5, kernel=linear, tol=1e-06, score=0.971014 -   0.1s\n",
      "[CV] C=5, kernel=linear, tol=0.01 ....................................\n",
      "[CV] ........... C=5, kernel=linear, tol=0.01, score=0.943463 -   0.0s\n",
      "[CV] C=5, kernel=linear, tol=0.01 ....................................\n",
      "[CV] ........... C=5, kernel=linear, tol=0.01, score=0.943262 -   0.0s\n",
      "[CV] C=5, kernel=linear, tol=0.01 ....................................\n",
      "[CV] ........... C=5, kernel=linear, tol=0.01, score=0.939286 -   0.0s\n",
      "[CV] C=5, kernel=linear, tol=0.01 ....................................\n",
      "[CV] ........... C=5, kernel=linear, tol=0.01, score=0.974910 -   0.0s\n",
      "[CV] C=5, kernel=linear, tol=0.01 ....................................\n",
      "[CV] ........... C=5, kernel=linear, tol=0.01, score=0.971014 -   0.0s\n",
      "[CV] C=5, kernel=linear, tol=0.1 .....................................\n",
      "[CV] ............ C=5, kernel=linear, tol=0.1, score=0.946996 -   0.0s\n",
      "[CV] C=5, kernel=linear, tol=0.1 .....................................\n",
      "[CV] ............ C=5, kernel=linear, tol=0.1, score=0.943262 -   0.0s\n",
      "[CV] C=5, kernel=linear, tol=0.1 .....................................\n",
      "[CV] ............ C=5, kernel=linear, tol=0.1, score=0.942857 -   0.0s\n",
      "[CV] C=5, kernel=linear, tol=0.1 .....................................\n",
      "[CV] ............ C=5, kernel=linear, tol=0.1, score=0.967742 -   0.0s\n",
      "[CV] C=5, kernel=linear, tol=0.1 .....................................\n",
      "[CV] ............ C=5, kernel=linear, tol=0.1, score=0.967391 -   0.0s\n"
     ]
    },
    {
     "name": "stderr",
     "output_type": "stream",
     "text": [
      "[Parallel(n_jobs=1)]: Done  45 out of  45 | elapsed:    2.1s finished\n"
     ]
    },
    {
     "data": {
      "text/plain": [
       "GridSearchCV(cv=5,\n",
       "       estimator=SVC(C=1.0, cache_size=200, class_weight=None, coef0=0.0, degree=3, gamma=0.0,\n",
       "  kernel='rbf', max_iter=-1, probability=False, random_state=None,\n",
       "  shrinking=True, tol=0.001, verbose=False),\n",
       "       fit_params={}, iid=True, loss_func=None, n_jobs=1,\n",
       "       param_grid={'C': [0.1, 1, 5], 'kernel': ['linear'], 'tol': [1e-06, 0.01, 0.1]},\n",
       "       pre_dispatch='2*n_jobs', refit=True, score_func=None, scoring=None,\n",
       "       verbose=5)"
      ]
     },
     "execution_count": 32,
     "metadata": {},
     "output_type": "execute_result"
    }
   ],
   "source": [
    "from sklearn.svm import SVC\n",
    "\n",
    "search = GridSearchCV(SVC(), parameters, cv=5, verbose=5)\n",
    "search.fit(train_X, train_Y)"
   ]
  },
  {
   "cell_type": "markdown",
   "metadata": {},
   "source": [
    "The model with best performance is saved:"
   ]
  },
  {
   "cell_type": "code",
   "execution_count": 33,
   "metadata": {},
   "outputs": [
    {
     "data": {
      "text/plain": [
       "SVC(C=0.1, cache_size=200, class_weight=None, coef0=0.0, degree=3, gamma=0.0,\n",
       "  kernel='linear', max_iter=-1, probability=False, random_state=None,\n",
       "  shrinking=True, tol=0.01, verbose=False)"
      ]
     },
     "execution_count": 33,
     "metadata": {},
     "output_type": "execute_result"
    }
   ],
   "source": [
    "search.best_estimator_"
   ]
  },
  {
   "cell_type": "markdown",
   "metadata": {},
   "source": [
    "Let's use it to get the score on our test set:"
   ]
  },
  {
   "cell_type": "code",
   "execution_count": 130,
   "metadata": {},
   "outputs": [
    {
     "data": {
      "text/plain": [
       "0.92191435768261965"
      ]
     },
     "execution_count": 130,
     "metadata": {},
     "output_type": "execute_result"
    }
   ],
   "source": [
    "search.score(test_X, test_Y)"
   ]
  },
  {
   "cell_type": "markdown",
   "metadata": {},
   "source": [
    "## KNN"
   ]
  },
  {
   "cell_type": "code",
   "execution_count": 14,
   "metadata": {},
   "outputs": [],
   "source": [
    "from sklearn.neighbors import KNeighborsClassifier"
   ]
  },
  {
   "cell_type": "code",
   "execution_count": 15,
   "metadata": {},
   "outputs": [
    {
     "data": {
      "text/plain": [
       "0.96725440806045337"
      ]
     },
     "execution_count": 15,
     "metadata": {},
     "output_type": "execute_result"
    }
   ],
   "source": [
    "knn = KNeighborsClassifier(5)\n",
    "knn.fit(train_X, train_Y)\n",
    "knn.score(test_X, test_Y)"
   ]
  },
  {
   "cell_type": "markdown",
   "metadata": {},
   "source": [
    "## Pipelines"
   ]
  },
  {
   "cell_type": "markdown",
   "metadata": {},
   "source": [
    "Before training a model, it is often useful to preprocess the data.\n",
    "\n",
    "`sklearn` allows creating pipelines, chaining (potentially many steps or) preprocessing and training."
   ]
  },
  {
   "cell_type": "code",
   "execution_count": 55,
   "metadata": {},
   "outputs": [
    {
     "name": "stdout",
     "output_type": "stream",
     "text": [
      "Fitting 5 folds for each of 12 candidates, totalling 60 fits\n",
      "[CV] knn__n_neighbors=1, pca__n_components=20 ........................\n",
      "[CV]  knn__n_neighbors=1, pca__n_components=20, score=0.946996 -   0.0s\n",
      "[CV] knn__n_neighbors=1, pca__n_components=20 ........................\n",
      "[CV]  knn__n_neighbors=1, pca__n_components=20, score=0.960993 -   0.0s\n",
      "[CV] knn__n_neighbors=1, pca__n_components=20 ........................\n",
      "[CV]  knn__n_neighbors=1, pca__n_components=20, score=0.978571 -   0.0s\n",
      "[CV] knn__n_neighbors=1, pca__n_components=20 ........................\n",
      "[CV]  knn__n_neighbors=1, pca__n_components=20, score=0.971326 -   0.0s\n",
      "[CV] knn__n_neighbors=1, pca__n_components=20 ........................\n",
      "[CV]  knn__n_neighbors=1, pca__n_components=20, score=0.981884 -   0.0s\n",
      "[CV] knn__n_neighbors=1, pca__n_components=35 ........................\n",
      "[CV]  knn__n_neighbors=1, pca__n_components=35, score=0.957597 -   0.0s\n",
      "[CV] knn__n_neighbors=1, pca__n_components=35 ........................\n",
      "[CV]  knn__n_neighbors=1, pca__n_components=35, score=0.975177 -   0.0s\n",
      "[CV] knn__n_neighbors=1, pca__n_components=35 ........................\n",
      "[CV]  knn__n_neighbors=1, pca__n_components=35, score=0.978571 -   0.0s\n",
      "[CV] knn__n_neighbors=1, pca__n_components=35 ........................\n",
      "[CV]  knn__n_neighbors=1, pca__n_components=35, score=0.971326 -   0.0s\n",
      "[CV] knn__n_neighbors=1, pca__n_components=35 ........................\n",
      "[CV]  knn__n_neighbors=1, pca__n_components=35, score=0.981884 -   0.0s\n",
      "[CV] knn__n_neighbors=1, pca__n_components=50 ........................\n",
      "[CV]  knn__n_neighbors=1, pca__n_components=50, score=0.950530 -   0.0s\n",
      "[CV] knn__n_neighbors=1, pca__n_components=50 ........................\n",
      "[CV]  knn__n_neighbors=1, pca__n_components=50, score=0.978723 -   0.0s\n",
      "[CV] knn__n_neighbors=1, pca__n_components=50 ........................\n",
      "[CV]  knn__n_neighbors=1, pca__n_components=50, score=0.982143 -   0.0s\n",
      "[CV] knn__n_neighbors=1, pca__n_components=50 ........................\n",
      "[CV]  knn__n_neighbors=1, pca__n_components=50, score=0.974910 -   0.0s\n",
      "[CV] knn__n_neighbors=1, pca__n_components=50 ........................\n",
      "[CV]  knn__n_neighbors=1, pca__n_components=50, score=0.985507 -   0.0s\n",
      "[CV] knn__n_neighbors=1, pca__n_components=60 ........................\n",
      "[CV]  knn__n_neighbors=1, pca__n_components=60, score=0.946996 -   0.0s\n",
      "[CV] knn__n_neighbors=1, pca__n_components=60 ........................\n",
      "[CV]  knn__n_neighbors=1, pca__n_components=60, score=0.978723 -   0.0s\n",
      "[CV] knn__n_neighbors=1, pca__n_components=60 ........................\n",
      "[CV]  knn__n_neighbors=1, pca__n_components=60, score=0.982143 -   0.0s"
     ]
    },
    {
     "name": "stderr",
     "output_type": "stream",
     "text": [
      "[Parallel(n_jobs=1)]: Done   1 jobs       | elapsed:    0.0s\n",
      "[Parallel(n_jobs=1)]: Done  18 jobs       | elapsed:    0.6s\n"
     ]
    },
    {
     "name": "stdout",
     "output_type": "stream",
     "text": [
      "\n",
      "[CV] knn__n_neighbors=1, pca__n_components=60 ........................\n",
      "[CV]  knn__n_neighbors=1, pca__n_components=60, score=0.974910 -   0.0s\n",
      "[CV] knn__n_neighbors=1, pca__n_components=60 ........................\n",
      "[CV]  knn__n_neighbors=1, pca__n_components=60, score=0.985507 -   0.0s\n",
      "[CV] knn__n_neighbors=5, pca__n_components=20 ........................\n",
      "[CV]  knn__n_neighbors=5, pca__n_components=20, score=0.929329 -   0.0s\n",
      "[CV] knn__n_neighbors=5, pca__n_components=20 ........................\n",
      "[CV]  knn__n_neighbors=5, pca__n_components=20, score=0.971631 -   0.0s\n",
      "[CV] knn__n_neighbors=5, pca__n_components=20 ........................\n",
      "[CV]  knn__n_neighbors=5, pca__n_components=20, score=0.935714 -   0.0s\n",
      "[CV] knn__n_neighbors=5, pca__n_components=20 ........................\n",
      "[CV]  knn__n_neighbors=5, pca__n_components=20, score=0.956989 -   0.0s\n",
      "[CV] knn__n_neighbors=5, pca__n_components=20 ........................\n",
      "[CV]  knn__n_neighbors=5, pca__n_components=20, score=0.971014 -   0.0s\n",
      "[CV] knn__n_neighbors=5, pca__n_components=35 ........................\n",
      "[CV]  knn__n_neighbors=5, pca__n_components=35, score=0.929329 -   0.0s\n",
      "[CV] knn__n_neighbors=5, pca__n_components=35 ........................\n",
      "[CV]  knn__n_neighbors=5, pca__n_components=35, score=0.978723 -   0.0s\n",
      "[CV] knn__n_neighbors=5, pca__n_components=35 ........................\n",
      "[CV]  knn__n_neighbors=5, pca__n_components=35, score=0.946429 -   0.0s\n",
      "[CV] knn__n_neighbors=5, pca__n_components=35 ........................\n",
      "[CV]  knn__n_neighbors=5, pca__n_components=35, score=0.960573 -   0.0s\n",
      "[CV] knn__n_neighbors=5, pca__n_components=35 ........................\n",
      "[CV]  knn__n_neighbors=5, pca__n_components=35, score=0.981884 -   0.0s\n",
      "[CV] knn__n_neighbors=5, pca__n_components=50 ........................\n",
      "[CV]  knn__n_neighbors=5, pca__n_components=50, score=0.932862 -   0.1s\n",
      "[CV] knn__n_neighbors=5, pca__n_components=50 ........................\n",
      "[CV]  knn__n_neighbors=5, pca__n_components=50, score=0.978723 -   0.1s\n",
      "[CV] knn__n_neighbors=5, pca__n_components=50 ........................\n",
      "[CV]  knn__n_neighbors=5, pca__n_components=50, score=0.946429 -   0.1s\n",
      "[CV] knn__n_neighbors=5, pca__n_components=50 ........................\n",
      "[CV]  knn__n_neighbors=5, pca__n_components=50, score=0.964158 -   0.0s\n",
      "[CV] knn__n_neighbors=5, pca__n_components=50 ........................\n",
      "[CV]  knn__n_neighbors=5, pca__n_components=50, score=0.981884 -   0.0s\n",
      "[CV] knn__n_neighbors=5, pca__n_components=60 ........................\n",
      "[CV]  knn__n_neighbors=5, pca__n_components=60, score=0.932862 -   0.1s\n",
      "[CV] knn__n_neighbors=5, pca__n_components=60 ........................\n",
      "[CV]  knn__n_neighbors=5, pca__n_components=60, score=0.978723 -   0.1s\n",
      "[CV] knn__n_neighbors=5, pca__n_components=60 ........................\n",
      "[CV]  knn__n_neighbors=5, pca__n_components=60, score=0.942857 -   0.1s\n",
      "[CV] knn__n_neighbors=5, pca__n_components=60 ........................\n",
      "[CV]  knn__n_neighbors=5, pca__n_components=60, score=0.964158 -   0.0s\n",
      "[CV] knn__n_neighbors=5, pca__n_components=60 ........................\n",
      "[CV]  knn__n_neighbors=5, pca__n_components=60, score=0.981884 -   0.0s\n",
      "[CV] knn__n_neighbors=9, pca__n_components=20 ........................\n",
      "[CV]  knn__n_neighbors=9, pca__n_components=20, score=0.908127 -   0.0s\n",
      "[CV] knn__n_neighbors=9, pca__n_components=20 ........................\n",
      "[CV]  knn__n_neighbors=9, pca__n_components=20, score=0.971631 -   0.0s\n",
      "[CV] knn__n_neighbors=9, pca__n_components=20 ........................\n",
      "[CV]  knn__n_neighbors=9, pca__n_components=20, score=0.921429 -   0.0s\n",
      "[CV] knn__n_neighbors=9, pca__n_components=20 ........................\n",
      "[CV]  knn__n_neighbors=9, pca__n_components=20, score=0.956989 -   0.0s\n",
      "[CV] knn__n_neighbors=9, pca__n_components=20 ........................\n",
      "[CV]  knn__n_neighbors=9, pca__n_components=20, score=0.971014 -   0.0s\n",
      "[CV] knn__n_neighbors=9, pca__n_components=35 ........................\n",
      "[CV]  knn__n_neighbors=9, pca__n_components=35, score=0.918728 -   0.0s\n",
      "[CV] knn__n_neighbors=9, pca__n_components=35 ........................\n",
      "[CV]  knn__n_neighbors=9, pca__n_components=35, score=0.968085 -   0.0s\n",
      "[CV] knn__n_neighbors=9, pca__n_components=35 ........................\n",
      "[CV]  knn__n_neighbors=9, pca__n_components=35, score=0.942857 -   0.0s\n",
      "[CV] knn__n_neighbors=9, pca__n_components=35 ........................\n",
      "[CV]  knn__n_neighbors=9, pca__n_components=35, score=0.960573 -   0.0s\n",
      "[CV] knn__n_neighbors=9, pca__n_components=35 ........................\n",
      "[CV]  knn__n_neighbors=9, pca__n_components=35, score=0.981884 -   0.0s\n",
      "[CV] knn__n_neighbors=9, pca__n_components=50 ........................\n",
      "[CV]  knn__n_neighbors=9, pca__n_components=50, score=0.922261 -   0.1s\n",
      "[CV] knn__n_neighbors=9, pca__n_components=50 ........................\n",
      "[CV]  knn__n_neighbors=9, pca__n_components=50, score=0.968085 -   0.1s\n",
      "[CV] knn__n_neighbors=9, pca__n_components=50 ........................\n",
      "[CV]  knn__n_neighbors=9, pca__n_components=50, score=0.942857 -   0.1s\n",
      "[CV] knn__n_neighbors=9, pca__n_components=50 ........................\n",
      "[CV]  knn__n_neighbors=9, pca__n_components=50, score=0.964158 -   0.1s\n",
      "[CV] knn__n_neighbors=9, pca__n_components=50 ........................\n",
      "[CV]  knn__n_neighbors=9, pca__n_components=50, score=0.978261 -   0.1s\n",
      "[CV] knn__n_neighbors=9, pca__n_components=60 ........................\n",
      "[CV]  knn__n_neighbors=9, pca__n_components=60, score=0.925795 -   0.1s\n",
      "[CV] knn__n_neighbors=9, pca__n_components=60 ........................\n",
      "[CV]  knn__n_neighbors=9, pca__n_components=60, score=0.968085 -   0.1s\n",
      "[CV] knn__n_neighbors=9, pca__n_components=60 ........................\n",
      "[CV]  knn__n_neighbors=9, pca__n_components=60, score=0.942857 -   0.1s\n",
      "[CV] knn__n_neighbors=9, pca__n_components=60 ........................\n",
      "[CV]  knn__n_neighbors=9, pca__n_components=60, score=0.964158 -   0.1s\n",
      "[CV] knn__n_neighbors=9, pca__n_components=60 ........................\n",
      "[CV]  knn__n_neighbors=9, pca__n_components=60, score=0.978261 -   0.1s\n"
     ]
    },
    {
     "name": "stderr",
     "output_type": "stream",
     "text": [
      "[Parallel(n_jobs=1)]: Done  60 out of  60 | elapsed:    2.5s finished\n"
     ]
    },
    {
     "data": {
      "text/plain": [
       "0.95969773299748107"
      ]
     },
     "execution_count": 55,
     "metadata": {},
     "output_type": "execute_result"
    }
   ],
   "source": [
    "from sklearn.pipeline import Pipeline\n",
    "from sklearn.decomposition import PCA\n",
    "\n",
    "pipeline = Pipeline([('pca', PCA()), ('knn', KNeighborsClassifier())])\n",
    "parameters = {\n",
    "    'pca__n_components': [20, 35, 50, 60],\n",
    "    'knn__n_neighbors': [1, 5, 9]\n",
    "    \n",
    "}\n",
    "search = GridSearchCV(pipeline, parameters, cv=5, verbose=5)\n",
    "search.fit(train_X, train_Y)\n",
    "search.score(test_X, test_Y)"
   ]
  },
  {
   "cell_type": "markdown",
   "metadata": {},
   "source": [
    "Let's evaluate how performace varies as we vary the number of nearest neighbours."
   ]
  },
  {
   "cell_type": "code",
   "execution_count": 25,
   "metadata": {},
   "outputs": [
    {
     "data": {
      "text/plain": [
       "[mean: 0.96786, std: 0.01270, params: {'knn__n_neighbors': 1, 'pca__n_components': 20},\n",
       " mean: 0.97429, std: 0.01243, params: {'knn__n_neighbors': 1, 'pca__n_components': 50},\n",
       " mean: 0.95286, std: 0.01759, params: {'knn__n_neighbors': 5, 'pca__n_components': 20},\n",
       " mean: 0.96071, std: 0.01878, params: {'knn__n_neighbors': 5, 'pca__n_components': 50},\n",
       " mean: 0.94571, std: 0.02624, params: {'knn__n_neighbors': 9, 'pca__n_components': 20},\n",
       " mean: 0.95500, std: 0.02008, params: {'knn__n_neighbors': 9, 'pca__n_components': 50}]"
      ]
     },
     "execution_count": 25,
     "metadata": {},
     "output_type": "execute_result"
    }
   ],
   "source": [
    "search.grid_scores_"
   ]
  },
  {
   "cell_type": "code",
   "execution_count": 56,
   "metadata": {},
   "outputs": [
    {
     "data": {
      "text/plain": [
       "[<matplotlib.lines.Line2D at 0x10a5b6e80>]"
      ]
     },
     "execution_count": 56,
     "metadata": {},
     "output_type": "execute_result"
    },
    {
     "data": {
      "image/png": "[encoded data removed]",
      "text/plain": [
       "<matplotlib.figure.Figure at 0x10a462ba8>"
      ]
     },
     "metadata": {},
     "output_type": "display_data"
    }
   ],
   "source": [
    "knn_1 = [(run[0]['pca__n_components'], run[1]) for run in search.grid_scores_ if run[0]['knn__n_neighbors']==1]\n",
    "x, y = zip(*knn_1)\n",
    "f, ax = subplots(1, 1)\n",
    "ax.margins(0.1, 0.1)\n",
    "ax.plot(x, y, 'g-o')"
   ]
  },
  {
   "cell_type": "markdown",
   "metadata": {},
   "source": [
    "# Saving the model"
   ]
  },
  {
   "cell_type": "code",
   "execution_count": 34,
   "metadata": {},
   "outputs": [
    {
     "data": {
      "text/plain": [
       "GridSearchCV(cv=5,\n",
       "       estimator=SVC(C=1.0, cache_size=200, class_weight=None, coef0=0.0, degree=3, gamma=0.0,\n",
       "  kernel='rbf', max_iter=-1, probability=False, random_state=None,\n",
       "  shrinking=True, tol=0.001, verbose=False),\n",
       "       fit_params={}, iid=True, loss_func=None, n_jobs=1,\n",
       "       param_grid={'C': [0.1, 1, 5], 'kernel': ['linear'], 'tol': [1e-06, 0.01, 0.1]},\n",
       "       pre_dispatch='2*n_jobs', refit=True, score_func=None, scoring=None,\n",
       "       verbose=5)"
      ]
     },
     "execution_count": 34,
     "metadata": {},
     "output_type": "execute_result"
    }
   ],
   "source": [
    "search"
   ]
  },
  {
   "cell_type": "code",
   "execution_count": 42,
   "metadata": {},
   "outputs": [
    {
     "data": {
      "text/plain": [
       "['filename.pkl',\n",
       " 'filename.pkl_01.npy',\n",
       " 'filename.pkl_02.npy',\n",
       " 'filename.pkl_03.npy',\n",
       " 'filename.pkl_04.npy',\n",
       " 'filename.pkl_05.npy',\n",
       " 'filename.pkl_06.npy',\n",
       " 'filename.pkl_07.npy',\n",
       " 'filename.pkl_08.npy',\n",
       " 'filename.pkl_09.npy',\n",
       " 'filename.pkl_10.npy',\n",
       " 'filename.pkl_11.npy',\n",
       " 'filename.pkl_12.npy',\n",
       " 'filename.pkl_13.npy',\n",
       " 'filename.pkl_14.npy',\n",
       " 'filename.pkl_15.npy',\n",
       " 'filename.pkl_16.npy',\n",
       " 'filename.pkl_17.npy',\n",
       " 'filename.pkl_18.npy',\n",
       " 'filename.pkl_19.npy']"
      ]
     },
     "execution_count": 42,
     "metadata": {},
     "output_type": "execute_result"
    }
   ],
   "source": [
    "from sklearn.externals import joblib\n",
    "\n",
    "joblib.dump(search, 'filename.pkl')"
   ]
  },
  {
   "cell_type": "markdown",
   "metadata": {},
   "source": [
    "Then load it back later"
   ]
  },
  {
   "cell_type": "code",
   "execution_count": 43,
   "metadata": {},
   "outputs": [],
   "source": [
    "model = joblib.load('filename.pkl')"
   ]
  },
  {
   "cell_type": "code",
   "execution_count": 44,
   "metadata": {},
   "outputs": [
    {
     "data": {
      "text/plain": [
       "GridSearchCV(cv=5,\n",
       "       estimator=SVC(C=1.0, cache_size=200, class_weight=None, coef0=0.0, degree=3, gamma=0.0,\n",
       "  kernel='rbf', max_iter=-1, probability=False, random_state=None,\n",
       "  shrinking=True, tol=0.001, verbose=False),\n",
       "       fit_params={}, iid=True, loss_func=None, n_jobs=1,\n",
       "       param_grid={'C': [0.1, 1, 5], 'kernel': ['linear'], 'tol': [1e-06, 0.01, 0.1]},\n",
       "       pre_dispatch='2*n_jobs', refit=True, score_func=None, scoring=None,\n",
       "       verbose=5)"
      ]
     },
     "execution_count": 44,
     "metadata": {},
     "output_type": "execute_result"
    }
   ],
   "source": [
    "model"
   ]
  }
 ],
 "metadata": {
  "kernelspec": {
   "display_name": "Python 3",
   "language": "python",
   "name": "python3"
  },
  "language_info": {
   "codemirror_mode": {
    "name": "ipython",
    "version": 3
   },
   "file_extension": ".py",
   "mimetype": "text/x-python",
   "name": "python",
   "nbconvert_exporter": "python",
   "pygments_lexer": "ipython3",
   "version": "3.6.8"
  }
 },
 "nbformat": 4,
 "nbformat_minor": 1
}
